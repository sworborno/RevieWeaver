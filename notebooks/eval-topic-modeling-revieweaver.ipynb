{
 "cells": [
  {
   "cell_type": "code",
   "execution_count": 1,
   "id": "61f7d886-8655-46b1-a1eb-9aa8a10c48b2",
   "metadata": {},
   "outputs": [],
   "source": [
    "# Load the defaultdict from the file\n",
    "import pickle\n",
    "import pandas as pd\n",
    "from sklearn import metrics\n",
    "import numpy as np\n",
    "\n",
    "with open('results-topic-modeling-revieweaver.pkl', 'rb') as f:\n",
    "    all_results = pickle.load(f)"
   ]
  },
  {
   "cell_type": "code",
   "execution_count": 2,
   "id": "4e587ede-490a-43fe-a77e-ea34eae48091",
   "metadata": {},
   "outputs": [],
   "source": [
    "# all_results.keys()"
   ]
  },
  {
   "cell_type": "code",
   "execution_count": 3,
   "id": "98c911ef-6926-415e-8720-59ca61b38ced",
   "metadata": {},
   "outputs": [
    {
     "name": "stderr",
     "output_type": "stream",
     "text": [
      "/home/jupyter/.local/share/virtualenvs/mypipenv2-IMzTeDZw/lib/python3.10/site-packages/tqdm/auto.py:21: TqdmWarning: IProgress not found. Please update jupyter and ipywidgets. See https://ipywidgets.readthedocs.io/en/stable/user_install.html\n",
      "  from .autonotebook import tqdm as notebook_tqdm\n"
     ]
    }
   ],
   "source": [
    "from sentence_transformers import SentenceTransformer"
   ]
  },
  {
   "cell_type": "code",
   "execution_count": 5,
   "id": "23decadf-fb4a-41e1-b963-a13a0c79098a",
   "metadata": {},
   "outputs": [],
   "source": [
    "sentence_embedding_model = SentenceTransformer(\"all-MiniLM-L6-v2\")"
   ]
  },
  {
   "cell_type": "code",
   "execution_count": 6,
   "id": "9f7c6e2e-7194-4b7e-aecf-5040811ddcb5",
   "metadata": {
    "tags": []
   },
   "outputs": [],
   "source": [
    "pd.options.mode.chained_assignment = None\n",
    "\n",
    "silhouette_scores = []\n",
    "ch_scores = []\n",
    "db_scores = []\n",
    "\n",
    "\n",
    "for family in list(all_results.keys()):\n",
    "    all_features = all_results[f\"{family}\"]                              \n",
    "\n",
    "    if len(all_features) == 0:\n",
    "        continue\n",
    "\n",
    "    if len(all_features[0]) == 8:\n",
    "        distilled_features_family = pd.DataFrame(all_features, columns=[\"feature_name\", \"count\", \"review_ids\", \"other_names\", \"feature_id\", \"quotes\", \"val\", \"embedding\"])\n",
    "        distilled_features_family.drop(['val', 'embedding'], axis=1, inplace=True)\n",
    "    else:\n",
    "        distilled_features_family = pd.DataFrame(all_features, columns=[\"feature_name\", \"count\", \"review_ids\", \"other_names\", \"feature_id\", \"quotes\"])\n",
    "    distilled_features_family[\"sentiment\"] = distilled_features_family[\"feature_id\"].apply(lambda x: \"Positive\" if \"Positive\" in x else \"Negative\")\n",
    "    \n",
    "    \n",
    "    for sentiment in [\"Positive\", \"Negative\"]:\n",
    "        features = distilled_features_family[distilled_features_family[\"sentiment\"] == sentiment]\n",
    "        \n",
    "        # Convert the 'feature_name' column to a categorical data type\n",
    "        features['feature_name'] = features['feature_name'].astype('category')\n",
    "\n",
    "        # Assign numerical labels to the categories\n",
    "        features.loc[:, 'label'] = features['feature_name'].cat.codes \n",
    "        \n",
    "        eval_aspect_list = []\n",
    "        aid = 0\n",
    "        \n",
    "        for i, row in features.iterrows():\n",
    "            feature = row['feature_name']\n",
    "            other_names = row['other_names']\n",
    "            label = row['label']\n",
    "            \n",
    "            for name in other_names:\n",
    "                aspect = name.split('(')[0].lower()\n",
    "                count = int(name.split('(')[1].strip(')'))\n",
    "\n",
    "                for j in range(count):\n",
    "                    eval_aspect_list.append([aid, feature, aspect, label])\n",
    "                    aid += 1\n",
    "                    \n",
    "        eval_aspect_df = pd.DataFrame(eval_aspect_list, columns=['aid', 'feature', 'aspect', 'label'])  \n",
    "        \n",
    "        # Group by 'category' and count the occurrences\n",
    "        grouped = eval_aspect_df.groupby('label').size().reset_index(name='count')\n",
    "\n",
    "        # Sort by count in descending order\n",
    "        sorted_groups = grouped.sort_values(by='count', ascending=False)\n",
    "\n",
    "        # Select the top 10 groups\n",
    "        top_10_groups = sorted_groups.head(min(10, len(eval_aspect_df.label.unique())))\n",
    "        \n",
    "        eval_aspect_df_filtered = eval_aspect_df[eval_aspect_df['label'].isin(top_10_groups.label.unique())]\n",
    "        \n",
    "        eval_aspect_df_filtered[\"aspect_embeddings\"] = sentence_embedding_model.encode(\n",
    "            eval_aspect_df_filtered['aspect'].tolist(),\n",
    "            batch_size=192,\n",
    "            device=0,\n",
    "            show_progress_bar=False,\n",
    "        ).tolist()\n",
    "        \n",
    "        if len(set(eval_aspect_df_filtered['label'].values)) >= 2 and len(set(eval_aspect_df_filtered['label'].values)) < eval_aspect_df_filtered.shape[0]:     \n",
    "            sil_score = 0\n",
    "            ch_score = 0\n",
    "            db_score = 0\n",
    "    \n",
    "            sil_score = metrics.silhouette_score(np.array(eval_aspect_df_filtered[\"aspect_embeddings\"].values.tolist()), eval_aspect_df_filtered['label'].values, metric='cosine')\n",
    "            ch_score = metrics.calinski_harabasz_score(np.array(eval_aspect_df_filtered[\"aspect_embeddings\"].values.tolist()), eval_aspect_df_filtered['label'].values)\n",
    "            db_score = metrics.davies_bouldin_score(np.array(eval_aspect_df_filtered[\"aspect_embeddings\"].values.tolist()), eval_aspect_df_filtered['label'].values)\n",
    "            \n",
    "            if sil_score > 0:\n",
    "                silhouette_scores.append(sil_score)\n",
    "            if ch_score > 0:\n",
    "                ch_scores.append(ch_score)\n",
    "            if db_score > 0:\n",
    "                db_scores.append(db_score)"
   ]
  },
  {
   "cell_type": "code",
   "execution_count": 7,
   "id": "2668d9e3-128b-4215-a0bf-b6065f18673e",
   "metadata": {},
   "outputs": [
    {
     "name": "stdout",
     "output_type": "stream",
     "text": [
      "0.52 +- 0.16[0.05, 0.88]\n",
      "13.14 +- 18.14[1.0, 206.2]\n",
      "0.58 +- 0.25[0.0, 1.46]\n"
     ]
    }
   ],
   "source": [
    "print(f\"{round(np.mean(silhouette_scores), 2)} +- {round(np.std(silhouette_scores), 2)}[{round(np.min(silhouette_scores), 2)}, {round(np.max(silhouette_scores), 2)}]\")\n",
    "print(f\"{round(np.mean(ch_scores), 2)} +- {round(np.std(ch_scores), 2)}[{round(np.min(ch_scores), 2)}, {round(np.max(ch_scores), 2)}]\")\n",
    "print(f\"{round(np.mean(db_scores), 2)} +- {round(np.std(db_scores), 2)}[{round(np.min(db_scores), 2)}, {round(np.max(db_scores), 2)}]\")"
   ]
  },
  {
   "cell_type": "code",
   "execution_count": null,
   "id": "061c83d0-cae2-4857-8841-a70b928baa52",
   "metadata": {},
   "outputs": [],
   "source": []
  }
 ],
 "metadata": {
  "environment": {
   "kernel": "mypipenv2",
   "name": "pytorch-gpu.2-0.m109",
   "type": "gcloud",
   "uri": "gcr.io/deeplearning-platform-release/pytorch-gpu.2-0:m109"
  },
  "kernelspec": {
   "display_name": "mypipenv2",
   "language": "python",
   "name": "mypipenv2"
  },
  "language_info": {
   "codemirror_mode": {
    "name": "ipython",
    "version": 3
   },
   "file_extension": ".py",
   "mimetype": "text/x-python",
   "name": "python",
   "nbconvert_exporter": "python",
   "pygments_lexer": "ipython3",
   "version": "3.10.11"
  }
 },
 "nbformat": 4,
 "nbformat_minor": 5
}
